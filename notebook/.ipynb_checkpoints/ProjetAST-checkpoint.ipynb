{
 "cells": [
  {
   "cell_type": "markdown",
   "id": "nominated-convert",
   "metadata": {},
   "source": [
    "# Apprentissage automatique pour les séries temporelles \n",
    "## Binome 13 : Supervised kernel change point detection with partial annotations.\n",
    "### Notebook 1/3 : Implémentations des algorithmes de détection de ruptures. "
   ]
  },
  {
   "cell_type": "code",
   "execution_count": 240,
   "id": "becoming-testimony",
   "metadata": {},
   "outputs": [],
   "source": [
    "import matplotlib.pyplot as plt  # for display purposes\n",
    "import numpy as np\n",
    "import ruptures as rpt"
   ]
  },
  {
   "cell_type": "markdown",
   "id": "supported-bulletin",
   "metadata": {},
   "source": [
    "Dans ce premier notebook, nous implémentons les principaux algorithmes de détection de ruptures présenté en cours à savoir l'algorithme de résolution optimale et l'algorithme de fenêtre. \n",
    "Ensuite, et ce sans considérer la librairie Ruptures, nous implémentons l'algorithme présenté dans l'article étudié. \n",
    "\n",
    "\n",
    "Le code présent dans ce notebook est moins intéressant que ce que nous mettons à disposition dans le dossier /src. Nous partagons tout de même ce fichier pour illustrer nos implémentations de l'algorithme de résolution optimal et de «fenêtre». "
   ]
  },
  {
   "cell_type": "markdown",
   "id": "respected-distributor",
   "metadata": {},
   "source": [
    "## Implémentation de l'algorithme optimal : "
   ]
  },
  {
   "cell_type": "code",
   "execution_count": 241,
   "id": "controlling-junior",
   "metadata": {},
   "outputs": [],
   "source": [
    "def cl2(signal):\n",
    "    \"Norme CL2\"\n",
    "    return np.linalg.norm(signal - np.mean(signal))\n",
    "\n",
    "\n",
    "def Opt(signal, c, n_bkps):\n",
    "    \"\"\"Algorithme de détéction de ruptures par la méthode optimale. \n",
    "    Enrées : \n",
    "    signal : Signal cible.\n",
    "    c : Fonction de coût .\n",
    "    n_bkps : Nombre de ruptures.\n",
    "    \n",
    "    Sortie :\n",
    "    L : Ruptures.\n",
    "    \"\"\"\n",
    "    K = n_bkps + 1  # Number of regimes\n",
    "\n",
    "    tf = signal.shape[0] - 1  # Max index in input signal\n",
    "\n",
    "    costs = [np.zeros((tf + 1, tf + 1)) for _ in range(K)]  # Initialize costs for dynamic prog\n",
    "\n",
    "    # No rupture case\n",
    "    for u in range(tf + 1 - 1):\n",
    "        for v in range(u + 1, tf + 1):\n",
    "            costs[0][u, v] = c(signal[u : v + 1])\n",
    "\n",
    "    # Rupture case\n",
    "    for k in range(2, K):\n",
    "        for u in range(tf + 1 - k):\n",
    "            for v in range(u + k, tf + 1):\n",
    "                costs[k - 1][u, v] = np.min(\n",
    "                    costs[k - 2][u, u + k - 1 - 1 : v - 1] + costs[0][u + k - 1 - 1 + 1 : v, v]\n",
    "                )\n",
    "\n",
    "    # Find rupture's index\n",
    "    L = np.zeros(K)\n",
    "    L[-1] = tf\n",
    "    for k in range(K, 1, -1):\n",
    "        s = int(L[k - 1])\n",
    "        t_star = np.argmin(costs[k - 2][0, k - 1 - 1 : s - 1] + costs[0][k - 1 - 1 + 1 : s, s])\n",
    "        L[k - 2] = t_star + k - 1 - 1 + 1\n",
    "    L[-1] = tf +1\n",
    "    return L"
   ]
  },
  {
   "cell_type": "code",
   "execution_count": 242,
   "id": "private-mumbai",
   "metadata": {},
   "outputs": [],
   "source": [
    "n_samples, n_dims, sigma = 200, 1, 0.1\n",
    "n_bkps = 2  # number of breakpoints\n",
    "signal, bkps = rpt.pw_constant(n_samples, n_dims, n_bkps, noise_std=sigma)"
   ]
  },
  {
   "cell_type": "code",
   "execution_count": 243,
   "id": "classified-trigger",
   "metadata": {},
   "outputs": [],
   "source": [
    "sorti = Opt(signal, cl2, n_bkps)"
   ]
  },
  {
   "cell_type": "code",
   "execution_count": 244,
   "id": "systematic-spider",
   "metadata": {},
   "outputs": [
    {
     "data": {
      "text/plain": [
       "array([ True,  True,  True])"
      ]
     },
     "execution_count": 244,
     "metadata": {},
     "output_type": "execute_result"
    }
   ],
   "source": [
    "sorti==bkps"
   ]
  },
  {
   "cell_type": "code",
   "execution_count": 245,
   "id": "stable-bennett",
   "metadata": {
    "scrolled": true,
    "tags": []
   },
   "outputs": [
    {
     "data": {
      "image/png": "[encoded data removed]",
      "text/plain": [
       "<Figure size 720x144 with 1 Axes>"
      ]
     },
     "metadata": {
      "needs_background": "light"
     },
     "output_type": "display_data"
    }
   ],
   "source": [
    "fig, ax_array = rpt.display(signal, bkps, sorti)"
   ]
  },
  {
   "cell_type": "markdown",
   "id": "muslim-administrator",
   "metadata": {},
   "source": [
    "## Implémentation de l'algorithme de fenêtre "
   ]
  },
  {
   "cell_type": "code",
   "execution_count": 246,
   "id": "scheduled-lafayette",
   "metadata": {},
   "outputs": [],
   "source": [
    "def fenetre(signal, methode, c, K, w):\n",
    "    \"\"\"Algorithme de détéction de ruptures par l'algorithme de fenêtre.\n",
    "    Enrées : \n",
    "    signal : Signal cible.\n",
    "    methode : Méthode de résolution des sou-problèmes de détection de ruptures\n",
    "    c : Fonction de cout.\n",
    "    K : Nombre de ruptures.\n",
    "    w : Taille de la fenêtre.\n",
    "    \n",
    "    Sortie :\n",
    "    ruptures : Ruptures.\n",
    "    \"\"\"\n",
    "    T = signal.shape[0]\n",
    "\n",
    "    ratio = int(T / (2 * w))\n",
    "    Z = np.zeros(ratio)\n",
    "    for t in range(ratio):\n",
    "        # print(t)\n",
    "        Z[t] = c(signal[2 * t * w : (2 * t + 2) * w]) - (\n",
    "            c(signal[2 * t * w : (2 * t + 1) * w]) + c(signal[(2 * t + 1) * w : (2 * t + 2) * w])\n",
    "        )\n",
    "    i = 0\n",
    "    ruptures = []\n",
    "    for t in range(ratio):\n",
    "\n",
    "        ####### Selection des ruptures #######\n",
    "        if Z[t] >= -0:\n",
    "            temp = methode(signal[2 * t * w : (2 * t + 2) * w], c, 1)\n",
    "            ruptures.append(temp[0] + 2 * t * w)\n",
    "            i = i + 1\n",
    "\n",
    "    ruptures.append(T)\n",
    "    return ruptures"
   ]
  },
  {
   "cell_type": "code",
   "execution_count": 247,
   "id": "arranged-florist",
   "metadata": {},
   "outputs": [],
   "source": [
    "fenetrebkps = fenetre(signal, Opt, cl2, n_bkps, 20)"
   ]
  },
  {
   "cell_type": "code",
   "execution_count": 248,
   "id": "romance-supervisor",
   "metadata": {},
   "outputs": [
    {
     "data": {
      "image/png": "[encoded data removed]",
      "text/plain": [
       "<Figure size 720x144 with 1 Axes>"
      ]
     },
     "metadata": {
      "needs_background": "light"
     },
     "output_type": "display_data"
    }
   ],
   "source": [
    "fig, ax_array = rpt.display(signal, bkps, fenetrebkps)"
   ]
  },
  {
   "cell_type": "markdown",
   "id": "complicated-patch",
   "metadata": {},
   "source": [
    "Maintenant que nos deux algorithmes sont implémentés et qu'ils semblent fonctionnels, nous pouvons les essayer sur des signaux plus alambiqués : "
   ]
  },
  {
   "cell_type": "code",
   "execution_count": 249,
   "id": "cardiac-puzzle",
   "metadata": {},
   "outputs": [
    {
     "data": {
      "image/png": "[encoded data removed]",
      "text/plain": [
       "<Figure size 720x144 with 1 Axes>"
      ]
     },
     "metadata": {
      "needs_background": "light"
     },
     "output_type": "display_data"
    }
   ],
   "source": [
    "n_bkps = 10  \n",
    "signal, bkps = rpt.pw_constant(n_samples, n_dims, n_bkps, noise_std=sigma)\n",
    "\n",
    "\n",
    "fenetrebkps = fenetre(signal, Opt, cl2, n_bkps, 10) # Résolution par fenêtres\n",
    "fig, ax_array = rpt.display(signal, bkps, fenetrebkps)"
   ]
  },
  {
   "cell_type": "code",
   "execution_count": 250,
   "id": "different-wedding",
   "metadata": {},
   "outputs": [
    {
     "data": {
      "image/png": "[encoded data removed]",
      "text/plain": [
       "<Figure size 720x144 with 1 Axes>"
      ]
     },
     "metadata": {
      "needs_background": "light"
     },
     "output_type": "display_data"
    }
   ],
   "source": [
    "optbkps = Opt(signal, cl2, n_bkps) # Résolution par Opt\n",
    "fig, ax_array = rpt.display(signal, bkps, optbkps)"
   ]
  },
  {
   "cell_type": "markdown",
   "id": "christian-castle",
   "metadata": {
    "tags": []
   },
   "source": [
    "Nous pouvons encore une fois vérifier que les ruptures déterminées sont bien celles que nous espérons obtenir :"
   ]
  },
  {
   "cell_type": "code",
   "execution_count": 251,
   "id": "authentic-cornell",
   "metadata": {},
   "outputs": [
    {
     "data": {
      "text/plain": [
       "array([ True,  True,  True,  True,  True,  True,  True,  True,  True,\n",
       "        True,  True])"
      ]
     },
     "execution_count": 251,
     "metadata": {},
     "output_type": "execute_result"
    }
   ],
   "source": [
    "optbkps == bkps"
   ]
  },
  {
   "cell_type": "markdown",
   "id": "communist-compatibility",
   "metadata": {},
   "source": [
    "## Implémentation de l'algorithme d'apprentissage de la métrique\n",
    "\n",
    "Il s'agit donc d'une implémentation simple, qui ne prend toujours pas en compte Ruptures. \n",
    "\n",
    "L'implémentation de cet algorithme optimisé et adapté pour ruptures est disponible dans le fichier /src/cost.py .\n",
    "\n",
    "Ici, certains choix ne sont pas optimaux. En particulier l'implémentation des contraintes est plus efficace dans /src/cost.py . "
   ]
  },
  {
   "cell_type": "code",
   "execution_count": 252,
   "id": "reliable-maple",
   "metadata": {},
   "outputs": [],
   "source": [
    "def contraintes(signal, bkps):\n",
    "    \"\"\"\n",
    "    Calcul des contraintes en fonction des ruptures \n",
    "    Entrées : \n",
    "    signal : Signal cible.\n",
    "    bkps : Ruptures.\n",
    "    \n",
    "    Sortie : \n",
    "    mat : Matrice telle que eij=1 si yi et yj sont semblables, -1 sinon, 0 si ils ne sont pas liés.     \n",
    "    \"\"\"\n",
    "    rup = len(bkps)\n",
    "    rupt = np.arange(rup)\n",
    "    n = signal.shape[0]\n",
    "    mat = np.zeros((n, n))\n",
    "    ind = 0\n",
    "\n",
    "    bkps = [0] + bkps\n",
    "\n",
    "    for ind in range(rup):\n",
    "        for i in range(bkps[ind], bkps[ind + 1]):\n",
    "            test = True\n",
    "            for j in range(bkps[ind], bkps[ind + 1]):\n",
    "                mat[i, j] = 1\n",
    "            if ind != rup - 1:\n",
    "                for j in range(bkps[ind + 1], bkps[ind + 2]):\n",
    "                    mat[i, j] = -1\n",
    "        if ind != rup - 1:\n",
    "            for i in range(bkps[ind + 1], bkps[ind + 2]):\n",
    "\n",
    "                for j in range(bkps[ind], bkps[ind + 1]):\n",
    "                    mat[i, j] = -1\n",
    "    return mat"
   ]
  },
  {
   "cell_type": "code",
   "execution_count": 253,
   "id": "active-border",
   "metadata": {},
   "outputs": [
    {
     "data": {
      "text/plain": [
       "array([[1., 1., 1., ..., 0., 0., 0.],\n",
       "       [1., 1., 1., ..., 0., 0., 0.],\n",
       "       [1., 1., 1., ..., 0., 0., 0.],\n",
       "       ...,\n",
       "       [0., 0., 0., ..., 1., 1., 1.],\n",
       "       [0., 0., 0., ..., 1., 1., 1.],\n",
       "       [0., 0., 0., ..., 1., 1., 1.]])"
      ]
     },
     "execution_count": 253,
     "metadata": {},
     "output_type": "execute_result"
    }
   ],
   "source": [
    "# Illustration rapide que tout fonctionnne :\n",
    "signal_contrainte, bkps_contrainte = rpt.pw_constant(10, n_dims, 3, noise_std=sigma)\n",
    "contr = contraintes(signal, bkps)\n",
    "contr"
   ]
  },
  {
   "cell_type": "code",
   "execution_count": 254,
   "id": "special-holly",
   "metadata": {},
   "outputs": [],
   "source": [
    "def NoyauLogDet(signal, K0, Contr, u, l, gamma):\n",
    "    \"\"\"\n",
    "    Algorithme d'apprentissage de la métrique tel que décrit dans l'article.\n",
    "    Entrées : \n",
    "    signal : Signal cible.\n",
    "    K0 : Matrice de Gram originale.\n",
    "    Contr : Matrice des contraintes.\n",
    "    u : Paramètre u \n",
    "    l : Paramètre l\n",
    "    gamma : Paramètre gamma\n",
    "    \n",
    "    Sortie\n",
    "    \"\"\"\n",
    "    K = K0\n",
    "    n = K.shape[0]\n",
    "    it, jt = Contr.shape\n",
    "    convergence = True\n",
    "    lmb = np.zeros((it, jt))\n",
    "\n",
    "    # np where permet de contruire eps\n",
    "    Eps = np.where(Contr == 1, u * np.ones(Contr.shape), Contr)\n",
    "    Eps = np.where(Eps == -1, l * np.ones(Contr.shape), Eps)\n",
    "\n",
    "    while convergence:\n",
    "        choix = False\n",
    "        while not choix:\n",
    "            # Pas optimal comme selection mais au moins elle fonctionne, on pourra optimiser plus tard\n",
    "            i = np.random.randint(it)\n",
    "            j = np.random.randint(jt)\n",
    "            if Contr[i, j] != 0:\n",
    "                choix = True\n",
    "        # print(Eps[i,j])\n",
    "        ei = np.eye(1, n, i)\n",
    "        ej = np.eye(1, n, j)\n",
    "\n",
    "        p = np.dot(np.dot((ei - ej), K), (ei - ej).T)[0]\n",
    "\n",
    "        if Contr[i, j] > 0:\n",
    "            delta = 1\n",
    "        else:\n",
    "            delta = -1\n",
    "\n",
    "        if p == 0:\n",
    "            p = p + 10 ** -10\n",
    "        alpha = np.min((lmb[i, j], delta * gamma * ((1 / p) - 1 / Eps[i, j]) / (gamma + 1)))\n",
    "        # print(\"p\",p)\n",
    "        beta = delta * alpha / (1 - delta * alpha * p)\n",
    "        Eps[i, j] = gamma * Eps[i, j] / (gamma + delta * alpha * Eps[i, j])\n",
    "        lmb[i, j] = lmb[i, j] - alpha\n",
    "\n",
    "        Ancien_K = K\n",
    "        K = K + beta * np.dot(np.dot(K, (ei - ej).T), np.dot((ei - ej), K))\n",
    "\n",
    "        if np.linalg.norm(K - Ancien_K) < 0.0000001:\n",
    "            convergence = False\n",
    "    return K\n",
    "\n",
    "\n",
    "from scipy.spatial.distance import pdist, squareform\n",
    "\n",
    "\n",
    "# Calcul K calcule la matrice de gram d'un noyau gaussien\n",
    "def calcul_K(sigma2, donnees):\n",
    "    \"\"\"\n",
    "    Calcul la matrice de gramme pour un noyau gaussien\n",
    "    \"\"\"\n",
    "    pairwise_dists = squareform(pdist(donnees, \"euclidean\"))\n",
    "    K = np.exp(-(pairwise_dists) / 2 * sigma2)\n",
    "    return K\n",
    "\n",
    "\n",
    "K0 = calcul_K(1, signal)"
   ]
  },
  {
   "cell_type": "code",
   "execution_count": 255,
   "id": "satisfactory-finish",
   "metadata": {},
   "outputs": [
    {
     "name": "stderr",
     "output_type": "stream",
     "text": [
      "/home/think/anaconda3/envs/Python37/lib/python3.7/site-packages/numpy/core/fromnumeric.py:87: VisibleDeprecationWarning: Creating an ndarray from ragged nested sequences (which is a list-or-tuple of lists-or-tuples-or ndarrays with different lengths or shapes) is deprecated. If you meant to do this, you must specify 'dtype=object' when creating the ndarray\n",
      "  return ufunc.reduce(obj, axis, dtype, out, **passkwargs)\n"
     ]
    },
    {
     "data": {
      "text/plain": [
       "array([[1.00000000e+00, 9.31799346e-01, 9.55975080e-01, ...,\n",
       "        4.51197624e-04, 4.02935663e-04, 4.28451364e-04],\n",
       "       [9.31799346e-01, 1.00000000e+00, 8.90776954e-01, ...,\n",
       "        4.20425651e-04, 3.75455187e-04, 3.99230701e-04],\n",
       "       [9.55975080e-01, 8.90776954e-01, 1.00000000e+00, ...,\n",
       "        4.71976345e-04, 4.21491806e-04, 4.48182566e-04],\n",
       "       ...,\n",
       "       [4.51197624e-04, 4.20425651e-04, 4.71976345e-04, ...,\n",
       "        1.00000000e+00, 8.93035870e-01, 9.49586924e-01],\n",
       "       [4.02935663e-04, 3.75455187e-04, 4.21491806e-04, ...,\n",
       "        8.93035870e-01, 1.00000000e+00, 9.40446680e-01],\n",
       "       [4.28451364e-04, 3.99230701e-04, 4.48182566e-04, ...,\n",
       "        9.49586924e-01, 9.40446680e-01, 1.00000000e+00]])"
      ]
     },
     "execution_count": 255,
     "metadata": {},
     "output_type": "execute_result"
    }
   ],
   "source": [
    "a = NoyauLogDet(signal, K0, contr, 0.5, 1, 1)\n",
    "a"
   ]
  },
  {
   "cell_type": "code",
   "execution_count": 256,
   "id": "worthy-chick",
   "metadata": {},
   "outputs": [],
   "source": [
    "def norme_noyau(K, i, j):\n",
    "    \"\"\"\n",
    "    Calcul de la norme apprise\n",
    "    \"\"\"\n",
    "    diag = np.zeros(K.shape)\n",
    "    diag[i + 1 : j + 1, i + 1 : j + 1] = np.eye(j - i, j - i)\n",
    "    diagsomme = np.sum(diag * K)\n",
    "\n",
    "    return diagsomme - np.sum(K[i + 1 : j + 1, i + 1 : j + 1]) / (j - i)"
   ]
  },
  {
   "cell_type": "markdown",
   "id": "valued-passing",
   "metadata": {},
   "source": [
    "Illustration de l'intérêt de cette norme, la rupture impacte sensiblement la norme : "
   ]
  },
  {
   "cell_type": "code",
   "execution_count": 257,
   "id": "filled-funeral",
   "metadata": {},
   "outputs": [
    {
     "data": {
      "text/plain": [
       "0.6456957087847481"
      ]
     },
     "execution_count": 257,
     "metadata": {},
     "output_type": "execute_result"
    }
   ],
   "source": [
    "norme_noyau(a, 0, bkps[0] - 1)"
   ]
  },
  {
   "cell_type": "code",
   "execution_count": 258,
   "id": "contrary-claim",
   "metadata": {},
   "outputs": [
    {
     "data": {
      "text/plain": [
       "2.129268075481363"
      ]
     },
     "execution_count": 258,
     "metadata": {},
     "output_type": "execute_result"
    }
   ],
   "source": [
    "norme_noyau(a, 0, bkps[0])"
   ]
  },
  {
   "cell_type": "code",
   "execution_count": 259,
   "id": "outdoor-apple",
   "metadata": {},
   "outputs": [
    {
     "data": {
      "text/plain": [
       "1.0077349797616808"
      ]
     },
     "execution_count": 259,
     "metadata": {},
     "output_type": "execute_result"
    }
   ],
   "source": [
    "norme_noyau(a, bkps[0], bkps[1] - 1)"
   ]
  },
  {
   "cell_type": "code",
   "execution_count": 260,
   "id": "satellite-vegetable",
   "metadata": {},
   "outputs": [
    {
     "data": {
      "text/plain": [
       "2.679638227515893"
      ]
     },
     "execution_count": 260,
     "metadata": {},
     "output_type": "execute_result"
    }
   ],
   "source": [
    "norme_noyau(a, bkps[0], bkps[1])"
   ]
  },
  {
   "cell_type": "code",
   "execution_count": 261,
   "id": "changing-tanzania",
   "metadata": {},
   "outputs": [],
   "source": [
    "def fenetre_indices(signal, methode, c, K, w, G, normeOpt):\n",
    "    \"\"\"\n",
    "    Même fonction que «fenetre», seulement celle ci permet de distinguer la norme utilisée dans la méthode de résolution et la norme dans celle de détection des fenêtres. \n",
    "    Dans ruptures, nous utiliserons toujours la même norme pour la résolution ainsi que pour la détection\n",
    "    \"\"\"\n",
    "    T = signal.shape[0]\n",
    "\n",
    "    ratio = int(T / (2 * w))\n",
    "    Z = np.zeros(ratio)\n",
    "    for t in range(ratio):\n",
    "        # print(t)\n",
    "        Z[t] = c(G, 2 * t * w, (2 * t + 2) * w) - (\n",
    "            c(G, 2 * t * w, (2 * t + 1) * w) + c(G, (2 * t + 1) * w, (2 * t + 2) * w)\n",
    "        )\n",
    "    i = 0\n",
    "    ruptures = []\n",
    "\n",
    "    for t in range(ratio):\n",
    "\n",
    "        ####### Selection des ruptures #######\n",
    "        if Z[t] >= 0.5:\n",
    "            i = 2 * t * w\n",
    "            j = (2 * t + 2) * w\n",
    "            temp = methode(signal[2 * t * w : (2 * t + 2) * w], normeOpt, 1)\n",
    "            ruptures.append(temp[0] + 2 * t * w)\n",
    "            i = i + 1\n",
    "\n",
    "    ruptures.append(T)\n",
    "    return ruptures"
   ]
  },
  {
   "cell_type": "code",
   "execution_count": 262,
   "id": "changing-expert",
   "metadata": {},
   "outputs": [
    {
     "data": {
      "image/png": "[encoded data removed]",
      "text/plain": [
       "<Figure size 720x144 with 1 Axes>"
      ]
     },
     "metadata": {
      "needs_background": "light"
     },
     "output_type": "display_data"
    }
   ],
   "source": [
    "signal, bkps = rpt.pw_constant(3000, n_dims, n_bkps, noise_std=sigma)\n",
    "\n",
    "fenetrebkps = fenetre(signal, Opt, cl2, n_bkps, 60)\n",
    "fig, ax_array = rpt.display(signal, bkps, fenetrebkps)"
   ]
  },
  {
   "cell_type": "code",
   "execution_count": 263,
   "id": "occupied-deployment",
   "metadata": {},
   "outputs": [
    {
     "name": "stderr",
     "output_type": "stream",
     "text": [
      "/home/think/anaconda3/envs/Python37/lib/python3.7/site-packages/numpy/core/fromnumeric.py:87: VisibleDeprecationWarning: Creating an ndarray from ragged nested sequences (which is a list-or-tuple of lists-or-tuples-or ndarrays with different lengths or shapes) is deprecated. If you meant to do this, you must specify 'dtype=object' when creating the ndarray\n",
      "  return ufunc.reduce(obj, axis, dtype, out, **passkwargs)\n"
     ]
    }
   ],
   "source": [
    "K0 = calcul_K(1, signal)\n",
    "contr = contraintes(signal, bkps)\n",
    "\n",
    "a = NoyauLogDet(signal, K0, contr, 0.5, 1, 1)"
   ]
  },
  {
   "cell_type": "code",
   "execution_count": 264,
   "id": "electrical-cathedral",
   "metadata": {},
   "outputs": [
    {
     "data": {
      "image/png": "[encoded data removed]",
      "text/plain": [
       "<Figure size 720x144 with 1 Axes>"
      ]
     },
     "metadata": {
      "needs_background": "light"
     },
     "output_type": "display_data"
    }
   ],
   "source": [
    "fenetrebkpsnoyau = fenetre_indices(signal, Opt, norme_noyau, n_bkps, 51, a, cl2)\n",
    "\n",
    "fig, ax_array = rpt.display(signal, bkps, fenetrebkpsnoyau)"
   ]
  },
  {
   "cell_type": "code",
   "execution_count": null,
   "id": "dominant-miami",
   "metadata": {},
   "outputs": [],
   "source": []
  },
  {
   "cell_type": "code",
   "execution_count": null,
   "id": "contemporary-savings",
   "metadata": {},
   "outputs": [],
   "source": []
  },
  {
   "cell_type": "code",
   "execution_count": null,
   "id": "whole-integration",
   "metadata": {},
   "outputs": [],
   "source": []
  },
  {
   "cell_type": "code",
   "execution_count": null,
   "id": "about-treasurer",
   "metadata": {},
   "outputs": [],
   "source": []
  },
  {
   "cell_type": "code",
   "execution_count": null,
   "id": "constant-latin",
   "metadata": {},
   "outputs": [],
   "source": []
  },
  {
   "cell_type": "code",
   "execution_count": null,
   "id": "alone-spring",
   "metadata": {},
   "outputs": [],
   "source": []
  },
  {
   "cell_type": "code",
   "execution_count": null,
   "id": "experimental-certificate",
   "metadata": {},
   "outputs": [],
   "source": []
  },
  {
   "cell_type": "code",
   "execution_count": null,
   "id": "infectious-coalition",
   "metadata": {},
   "outputs": [],
   "source": []
  },
  {
   "cell_type": "code",
   "execution_count": null,
   "id": "modular-triangle",
   "metadata": {},
   "outputs": [],
   "source": []
  },
  {
   "cell_type": "code",
   "execution_count": null,
   "id": "laden-redhead",
   "metadata": {},
   "outputs": [],
   "source": []
  },
  {
   "cell_type": "code",
   "execution_count": null,
   "id": "alert-scratch",
   "metadata": {},
   "outputs": [],
   "source": []
  },
  {
   "cell_type": "code",
   "execution_count": null,
   "id": "respected-archives",
   "metadata": {},
   "outputs": [],
   "source": []
  },
  {
   "cell_type": "code",
   "execution_count": null,
   "id": "developmental-happening",
   "metadata": {},
   "outputs": [],
   "source": []
  },
  {
   "cell_type": "code",
   "execution_count": null,
   "id": "oriental-veteran",
   "metadata": {},
   "outputs": [],
   "source": []
  }
 ],
 "metadata": {
  "kernelspec": {
   "display_name": "Python 3",
   "language": "python",
   "name": "python3"
  },
  "language_info": {
   "codemirror_mode": {
    "name": "ipython",
    "version": 3
   },
   "file_extension": ".py",
   "mimetype": "text/x-python",
   "name": "python",
   "nbconvert_exporter": "python",
   "pygments_lexer": "ipython3",
   "version": "3.8.8"
  }
 },
 "nbformat": 4,
 "nbformat_minor": 5
}
